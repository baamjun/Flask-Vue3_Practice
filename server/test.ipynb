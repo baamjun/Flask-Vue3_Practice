{
  "cells": [
    {
      "cell_type": "markdown",
      "metadata": {
        "id": "1SAjIrN9l6uJ"
      },
      "source": [
        "# 소상공인 데이터 EDA\n",
        "\n",
        "- [인턴 가이드라인 참고](https://docs.google.com/document/d/1KRiulTfb3bxYLVlpN6vfGD-cU5dF-siaO-ZXTKAzLwI/edit?usp=sharing)\n",
        "- 코드 작성자 : 손범준\n",
        "- 코드 작성일 : 2023-07-07\n",
        "- 데이터 출처 : 국가중점데이터-상권정보 데이터(https://www.data.go.kr/data/15083033/fileData.do)\n",
        "- 데이터 분석 목적 : flask, vue 웹 페이지 구현을 위한 데이터 EDA\n",
        "\n",
        "----"
      ]
    },
    {
      "cell_type": "code",
      "execution_count": 1,
      "metadata": {
        "id": "g1STY_V5lk2L"
      },
      "outputs": [],
      "source": [
        "import pandas as pd\n",
        "import numpy as np\n",
        "import matplotlib\n",
        "import matplotlib.pyplot as plt\n",
        "import seaborn as sns\n",
        "\n",
        "plt.rcParams['font.family'] = 'Malgun Gothic'"
      ]
    },
    {
      "cell_type": "code",
      "execution_count": 2,
      "metadata": {
        "id": "UfuYvDPGmq2T"
      },
      "outputs": [
        {
          "name": "stderr",
          "output_type": "stream",
          "text": [
            "C:\\Users\\beomj\\AppData\\Local\\Temp\\ipykernel_21560\\3775597450.py:1: DtypeWarning: Columns (2) have mixed types. Specify dtype option on import or set low_memory=False.\n",
            "  df_copy = pd.read_csv(\"소상공인시장진흥공단_상가(상권)정보_서울_202303.csv\")\n"
          ]
        }
      ],
      "source": [
        "df_copy = pd.read_csv(\"소상공인시장진흥공단_상가(상권)정보_서울_202303.csv\")"
      ]
    },
    {
      "cell_type": "code",
      "execution_count": 8,
      "metadata": {
        "id": "t40RnxNanAWN"
      },
      "outputs": [],
      "source": [
        "df = df_copy"
      ]
    },
    {
      "cell_type": "code",
      "execution_count": 9,
      "metadata": {
        "colab": {
          "base_uri": "https://localhost:8080/",
          "height": 852
        },
        "id": "IUmF9GQLqGLB",
        "outputId": "ef36ae57-acdf-490a-baf9-0c7e43ac4bfb"
      },
      "outputs": [
        {
          "data": {
            "text/html": [
              "<div>\n",
              "<style scoped>\n",
              "    .dataframe tbody tr th:only-of-type {\n",
              "        vertical-align: middle;\n",
              "    }\n",
              "\n",
              "    .dataframe tbody tr th {\n",
              "        vertical-align: top;\n",
              "    }\n",
              "\n",
              "    .dataframe thead th {\n",
              "        text-align: right;\n",
              "    }\n",
              "</style>\n",
              "<table border=\"1\" class=\"dataframe\">\n",
              "  <thead>\n",
              "    <tr style=\"text-align: right;\">\n",
              "      <th></th>\n",
              "      <th>상가업소번호</th>\n",
              "      <th>상호명</th>\n",
              "      <th>지점명</th>\n",
              "      <th>상권업종대분류코드</th>\n",
              "      <th>상권업종대분류명</th>\n",
              "      <th>상권업종중분류코드</th>\n",
              "      <th>상권업종중분류명</th>\n",
              "      <th>상권업종소분류코드</th>\n",
              "      <th>상권업종소분류명</th>\n",
              "      <th>표준산업분류코드</th>\n",
              "      <th>...</th>\n",
              "      <th>건물관리번호</th>\n",
              "      <th>건물명</th>\n",
              "      <th>도로명주소</th>\n",
              "      <th>구우편번호</th>\n",
              "      <th>신우편번호</th>\n",
              "      <th>동정보</th>\n",
              "      <th>층정보</th>\n",
              "      <th>호정보</th>\n",
              "      <th>경도</th>\n",
              "      <th>위도</th>\n",
              "    </tr>\n",
              "  </thead>\n",
              "  <tbody>\n",
              "    <tr>\n",
              "      <th>0</th>\n",
              "      <td>MA0101202210A0037544</td>\n",
              "      <td>영자's곱창</td>\n",
              "      <td>NaN</td>\n",
              "      <td>I2</td>\n",
              "      <td>음식</td>\n",
              "      <td>I201</td>\n",
              "      <td>한식</td>\n",
              "      <td>I20109</td>\n",
              "      <td>곱창 전골/구이</td>\n",
              "      <td>I56111</td>\n",
              "      <td>...</td>\n",
              "      <td>1121510100101690021003140</td>\n",
              "      <td>NaN</td>\n",
              "      <td>서울특별시 광진구 면목로 172</td>\n",
              "      <td>143900</td>\n",
              "      <td>4904</td>\n",
              "      <td>NaN</td>\n",
              "      <td>1</td>\n",
              "      <td>NaN</td>\n",
              "      <td>127.082832</td>\n",
              "      <td>37.568503</td>\n",
              "    </tr>\n",
              "    <tr>\n",
              "      <th>1</th>\n",
              "      <td>MA0101202210A0097916</td>\n",
              "      <td>호텔클로이</td>\n",
              "      <td>NaN</td>\n",
              "      <td>I1</td>\n",
              "      <td>숙박</td>\n",
              "      <td>I101</td>\n",
              "      <td>일반 숙박</td>\n",
              "      <td>I10102</td>\n",
              "      <td>여관/모텔</td>\n",
              "      <td>I55102</td>\n",
              "      <td>...</td>\n",
              "      <td>1114014500101300000014092</td>\n",
              "      <td>유성장</td>\n",
              "      <td>서울특별시 중구 을지로42길 11</td>\n",
              "      <td>100411</td>\n",
              "      <td>4561</td>\n",
              "      <td>NaN</td>\n",
              "      <td>NaN</td>\n",
              "      <td>NaN</td>\n",
              "      <td>127.005849</td>\n",
              "      <td>37.565708</td>\n",
              "    </tr>\n",
              "    <tr>\n",
              "      <th>2</th>\n",
              "      <td>MA0101202210A0096343</td>\n",
              "      <td>나라차중계태권도장</td>\n",
              "      <td>NaN</td>\n",
              "      <td>P1</td>\n",
              "      <td>교육</td>\n",
              "      <td>P106</td>\n",
              "      <td>기타 교육</td>\n",
              "      <td>P10601</td>\n",
              "      <td>태권도/무술학원</td>\n",
              "      <td>P85611</td>\n",
              "      <td>...</td>\n",
              "      <td>1135010600103640019010971</td>\n",
              "      <td>삼부프라자</td>\n",
              "      <td>서울특별시 노원구 한글비석로 242</td>\n",
              "      <td>139861</td>\n",
              "      <td>1734</td>\n",
              "      <td>NaN</td>\n",
              "      <td>NaN</td>\n",
              "      <td>NaN</td>\n",
              "      <td>127.076956</td>\n",
              "      <td>37.649226</td>\n",
              "    </tr>\n",
              "    <tr>\n",
              "      <th>3</th>\n",
              "      <td>MA0101202210A0093845</td>\n",
              "      <td>이상한스냅</td>\n",
              "      <td>NaN</td>\n",
              "      <td>M1</td>\n",
              "      <td>과학·기술</td>\n",
              "      <td>M113</td>\n",
              "      <td>사진 촬영</td>\n",
              "      <td>M11301</td>\n",
              "      <td>사진촬영업</td>\n",
              "      <td>M73303</td>\n",
              "      <td>...</td>\n",
              "      <td>1147010300100090004000001</td>\n",
              "      <td>백송주택</td>\n",
              "      <td>서울특별시 양천구 월정로 283</td>\n",
              "      <td>158822</td>\n",
              "      <td>7902</td>\n",
              "      <td>NaN</td>\n",
              "      <td>NaN</td>\n",
              "      <td>NaN</td>\n",
              "      <td>126.828832</td>\n",
              "      <td>37.542117</td>\n",
              "    </tr>\n",
              "    <tr>\n",
              "      <th>4</th>\n",
              "      <td>MA010120220805430767</td>\n",
              "      <td>토끼정</td>\n",
              "      <td>NaN</td>\n",
              "      <td>I2</td>\n",
              "      <td>음식</td>\n",
              "      <td>I201</td>\n",
              "      <td>한식</td>\n",
              "      <td>I20101</td>\n",
              "      <td>백반/한정식</td>\n",
              "      <td>I56111</td>\n",
              "      <td>...</td>\n",
              "      <td>1150010500107740012000001</td>\n",
              "      <td>마커스빌딩</td>\n",
              "      <td>서울특별시 강서구 마곡동로 55</td>\n",
              "      <td>157805</td>\n",
              "      <td>7802</td>\n",
              "      <td>NaN</td>\n",
              "      <td>2</td>\n",
              "      <td>NaN</td>\n",
              "      <td>126.833022</td>\n",
              "      <td>37.560053</td>\n",
              "    </tr>\n",
              "  </tbody>\n",
              "</table>\n",
              "<p>5 rows × 39 columns</p>\n",
              "</div>"
            ],
            "text/plain": [
              "                 상가업소번호        상호명  지점명 상권업종대분류코드 상권업종대분류명 상권업종중분류코드 상권업종중분류명  \\\n",
              "0  MA0101202210A0037544     영자's곱창  NaN        I2       음식      I201       한식   \n",
              "1  MA0101202210A0097916      호텔클로이  NaN        I1       숙박      I101    일반 숙박   \n",
              "2  MA0101202210A0096343  나라차중계태권도장  NaN        P1       교육      P106    기타 교육   \n",
              "3  MA0101202210A0093845      이상한스냅  NaN        M1    과학·기술      M113    사진 촬영   \n",
              "4  MA010120220805430767        토끼정  NaN        I2       음식      I201       한식   \n",
              "\n",
              "  상권업종소분류코드  상권업종소분류명 표준산업분류코드  ...                     건물관리번호    건물명  \\\n",
              "0    I20109  곱창 전골/구이   I56111  ...  1121510100101690021003140    NaN   \n",
              "1    I10102     여관/모텔   I55102  ...  1114014500101300000014092    유성장   \n",
              "2    P10601  태권도/무술학원   P85611  ...  1135010600103640019010971  삼부프라자   \n",
              "3    M11301     사진촬영업   M73303  ...  1147010300100090004000001   백송주택   \n",
              "4    I20101    백반/한정식   I56111  ...  1150010500107740012000001  마커스빌딩   \n",
              "\n",
              "                 도로명주소   구우편번호 신우편번호  동정보  층정보  호정보          경도         위도  \n",
              "0    서울특별시 광진구 면목로 172  143900  4904  NaN    1  NaN  127.082832  37.568503  \n",
              "1   서울특별시 중구 을지로42길 11  100411  4561  NaN  NaN  NaN  127.005849  37.565708  \n",
              "2  서울특별시 노원구 한글비석로 242  139861  1734  NaN  NaN  NaN  127.076956  37.649226  \n",
              "3    서울특별시 양천구 월정로 283  158822  7902  NaN  NaN  NaN  126.828832  37.542117  \n",
              "4    서울특별시 강서구 마곡동로 55  157805  7802  NaN    2  NaN  126.833022  37.560053  \n",
              "\n",
              "[5 rows x 39 columns]"
            ]
          },
          "execution_count": 9,
          "metadata": {},
          "output_type": "execute_result"
        }
      ],
      "source": [
        "df.head()"
      ]
    },
    {
      "cell_type": "code",
      "execution_count": 10,
      "metadata": {
        "colab": {
          "base_uri": "https://localhost:8080/"
        },
        "id": "vd0WXnCLqIMo",
        "outputId": "cd989cc5-ac70-4724-eb74-fe9c52682047"
      },
      "outputs": [
        {
          "data": {
            "text/plain": [
              "array(['I2', 'I1', 'P1', 'M1', 'G2', 'N1', 'S2', 'L1', 'R1', 'Q1'],\n",
              "      dtype=object)"
            ]
          },
          "execution_count": 10,
          "metadata": {},
          "output_type": "execute_result"
        }
      ],
      "source": [
        "df['상권업종대분류코드'].unique()"
      ]
    },
    {
      "cell_type": "code",
      "execution_count": 11,
      "metadata": {
        "colab": {
          "base_uri": "https://localhost:8080/"
        },
        "id": "zad6eN_Ws5AB",
        "outputId": "591736dc-e5a7-401b-cbe2-3f343e9a1639"
      },
      "outputs": [
        {
          "data": {
            "text/plain": [
              "array(['음식', '숙박', '교육', '과학·기술', '소매', '시설관리·임대', '수리·개인', '부동산',\n",
              "       '예술·스포츠', '보건의료'], dtype=object)"
            ]
          },
          "execution_count": 11,
          "metadata": {},
          "output_type": "execute_result"
        }
      ],
      "source": [
        "df['상권업종대분류명'].unique()"
      ]
    },
    {
      "cell_type": "code",
      "execution_count": 12,
      "metadata": {
        "colab": {
          "base_uri": "https://localhost:8080/"
        },
        "id": "I1jTO7cts74F",
        "outputId": "0e69d7b8-b8bc-45b3-ddb9-09d7ec53e19a"
      },
      "outputs": [
        {
          "data": {
            "text/plain": [
              "array(['I2음식', 'I1숙박', 'P1교육', 'M1과학·기술', 'G2소매', 'N1시설관리·임대', 'S2수리·개인',\n",
              "       'L1부동산', 'R1예술·스포츠', 'Q1보건의료'], dtype=object)"
            ]
          },
          "execution_count": 12,
          "metadata": {},
          "output_type": "execute_result"
        }
      ],
      "source": [
        "df['상권업종대분류코드'].unique() + df['상권업종대분류명'].unique()"
      ]
    },
    {
      "cell_type": "code",
      "execution_count": 13,
      "metadata": {
        "colab": {
          "base_uri": "https://localhost:8080/"
        },
        "id": "4WUfDMejtQb8",
        "outputId": "e74341c0-1b5a-49f5-a534-bb964c63e240"
      },
      "outputs": [
        {
          "data": {
            "text/plain": [
              "Index(['상가업소번호', '상호명', '지점명', '상권업종대분류코드', '상권업종대분류명', '상권업종중분류코드',\n",
              "       '상권업종중분류명', '상권업종소분류코드', '상권업종소분류명', '표준산업분류코드', '표준산업분류명', '시도코드',\n",
              "       '시도명', '시군구코드', '시군구명', '행정동코드', '행정동명', '법정동코드', '법정동명', '지번코드',\n",
              "       '대지구분코드', '대지구분명', '지번본번지', '지번부번지', '지번주소', '도로명코드', '도로명', '건물본번지',\n",
              "       '건물부번지', '건물관리번호', '건물명', '도로명주소', '구우편번호', '신우편번호', '동정보', '층정보',\n",
              "       '호정보', '경도', '위도'],\n",
              "      dtype='object')"
            ]
          },
          "execution_count": 13,
          "metadata": {},
          "output_type": "execute_result"
        }
      ],
      "source": [
        "df.columns"
      ]
    },
    {
      "cell_type": "markdown",
      "metadata": {
        "id": "IMiEfOLXnHxC"
      },
      "source": [
        "----"
      ]
    },
    {
      "cell_type": "code",
      "execution_count": 14,
      "metadata": {
        "id": "XGsBDTvNnGgU"
      },
      "outputs": [],
      "source": [
        "def search_business(df):\n",
        "    business_name = input(\"상호명을 입력하세요 :\")\n",
        "    result = df[df['상호명'] == business_name]\n",
        "    result = result[['상호명', '상권업종대분류코드', '상권업종대분류명', '도로명주소', '지번주소', '경도', '위도']]  # 원하는 컬럼만 선택합니다.\n",
        "    return result\n"
      ]
    },
    {
      "cell_type": "code",
      "execution_count": 15,
      "metadata": {
        "colab": {
          "base_uri": "https://localhost:8080/"
        },
        "id": "0lG5P8uknMZy",
        "outputId": "97cbe889-d70a-4aba-afaf-e30fe00a4583"
      },
      "outputs": [
        {
          "name": "stdout",
          "output_type": "stream",
          "text": [
            "       상호명 상권업종대분류코드 상권업종대분류명                 도로명주소                  지번주소  \\\n",
            "4      토끼정        I2       음식     서울특별시 강서구 마곡동로 55  서울특별시 강서구 마곡동 774-12   \n",
            "63612  토끼정        I2       음식  서울특별시 종로구 대학로8가길 133   서울특별시 종로구 동숭동 1-132   \n",
            "89382  토끼정        I2       음식   서울특별시 마포구 잔다리로2길 13   서울특별시 마포구 서교동 366-4   \n",
            "\n",
            "               경도         위도  \n",
            "4      126.833022  37.560053  \n",
            "63612  127.003506  37.580114  \n",
            "89382  126.920679  37.551706  \n"
          ]
        }
      ],
      "source": [
        "print(search_business(df))"
      ]
    },
    {
      "cell_type": "markdown",
      "metadata": {
        "id": "oD5jWD5knItT"
      },
      "source": [
        "----"
      ]
    },
    {
      "cell_type": "code",
      "execution_count": 23,
      "metadata": {
        "id": "3WZ0emANqCVw"
      },
      "outputs": [
        {
          "data": {
            "image/png": "[encoded data removed]",
            "text/plain": [
              "<Figure size 1000x600 with 1 Axes>"
            ]
          },
          "metadata": {},
          "output_type": "display_data"
        }
      ],
      "source": [
        "\n",
        "# 업종별로 시군구의 수량을 계산하는 함수\n",
        "def count_business(df, business_category):\n",
        "    # 선택된 업종의 데이터만 필터링\n",
        "    selected_df = df[df['상권업종대분류명'] == business_category]\n",
        "\n",
        "    # 시군구별로 해당 업종의 수량 계산\n",
        "    counts = selected_df['시군구명'].value_counts()\n",
        "\n",
        "    return counts\n",
        "\n",
        "# 업종을 선택하고, 그에 따른 시군구별 수량 계산\n",
        "#['I2음식', 'I1숙박', 'P1교육', 'M1과학·기술', 'G2소매', 'N1시설관리·임대', 'S2수리·개인', 'L1부동산', 'R1예술·스포츠', 'Q1보건의료']\n",
        "business_category = '숙박'  # 여기에 원하시는 업종을 입력하세요.\n",
        "counts = count_business(df, business_category)\n",
        "\n",
        "# 그래프 그리기\n",
        "plt.figure(figsize=(10,6))\n",
        "counts.plot(kind='bar', color='skyblue')\n",
        "plt.title(f'시군구별 \"{business_category}\" 업종 수량')\n",
        "plt.xlabel('시군구')\n",
        "plt.ylabel('수량')\n",
        "plt.show()"
      ]
    }
  ],
  "metadata": {
    "colab": {
      "provenance": []
    },
    "kernelspec": {
      "display_name": "jpt_kernel",
      "language": "python",
      "name": "beomj"
    },
    "language_info": {
      "codemirror_mode": {
        "name": "ipython",
        "version": 3
      },
      "file_extension": ".py",
      "mimetype": "text/x-python",
      "name": "python",
      "nbconvert_exporter": "python",
      "pygments_lexer": "ipython3",
      "version": "3.11.4"
    }
  },
  "nbformat": 4,
  "nbformat_minor": 0
}
